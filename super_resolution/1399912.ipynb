{
 "cells": [
  {
   "cell_type": "markdown",
   "metadata": {
    "collapsed": false
   },
   "source": [
    "请点击[此处](https://ai.baidu.com/docs#/AIStudio_Project_Notebook/a38e5576)查看本环境基本用法.  <br>\n",
    "Please click [here ](https://ai.baidu.com/docs#/AIStudio_Project_Notebook/a38e5576) for more detailed instructions. "
   ]
  },
  {
   "cell_type": "code",
   "execution_count": null,
   "metadata": {
    "collapsed": false
   },
   "outputs": [
    {
     "name": "stdout",
     "output_type": "stream",
     "text": [
      "Looking in indexes: https://mirror.baidu.com/pypi/simple/\n",
      "Collecting ppgan\n",
      "\u001b[?25l  Downloading https://mirror.baidu.com/pypi/packages/7e/10/fa5af72d80b99a6c8d4b9ceed1d34c55c63ae22414ed21463f65046d6fda/ppgan-0.1.2-py3-none-any.whl (139kB)\n",
      "\u001b[K     |████████████████████████████████| 143kB 14.9MB/s eta 0:00:01\n",
      "\u001b[?25hRequirement already satisfied: tqdm in /opt/conda/envs/python35-paddle120-env/lib/python3.7/site-packages (from ppgan) (4.36.1)\n",
      "Requirement already satisfied: PyYAML>=5.1 in /opt/conda/envs/python35-paddle120-env/lib/python3.7/site-packages (from ppgan) (5.1.2)\n",
      "Collecting scikit-image>=0.14.0 (from ppgan)\n",
      "\u001b[?25l  Downloading https://mirror.baidu.com/pypi/packages/fe/01/3a830f3df578ea3ed94ee7fd9f91e85c3dec2431d8548ab1c91869e51450/scikit_image-0.18.1-cp37-cp37m-manylinux1_x86_64.whl (29.2MB)\n",
      "\u001b[K     |████████████████████████████████| 29.2MB 8.0MB/s eta 0:00:012\n",
      "\u001b[?25hCollecting dlib (from ppgan)\n",
      "\u001b[?25l  Downloading https://mirror.baidu.com/pypi/packages/99/2c/ef681c1c717ace11040f9e99fe22dafc843cdd6085eb6120e7ab2a5c662b/dlib-19.21.1.tar.gz (3.6MB)\n",
      "\u001b[K     |████████████████████████████████| 3.6MB 30.8MB/s eta 0:00:01\n",
      "\u001b[?25hRequirement already satisfied: opencv-python in /opt/conda/envs/python35-paddle120-env/lib/python3.7/site-packages (from ppgan) (4.1.1.26)\n",
      "Requirement already satisfied: imageio-ffmpeg in /opt/conda/envs/python35-paddle120-env/lib/python3.7/site-packages (from ppgan) (0.3.0)\n",
      "Requirement already satisfied: scipy>=1.1.0 in /opt/conda/envs/python35-paddle120-env/lib/python3.7/site-packages (from ppgan) (1.3.0)\n",
      "Requirement already satisfied: imageio>=2.3.0 in /opt/conda/envs/python35-paddle120-env/lib/python3.7/site-packages (from scikit-image>=0.14.0->ppgan) (2.6.1)\n",
      "Requirement already satisfied: matplotlib!=3.0.0,>=2.0.0 in /opt/conda/envs/python35-paddle120-env/lib/python3.7/site-packages (from scikit-image>=0.14.0->ppgan) (2.2.3)\n",
      "Collecting numpy>=1.16.5 (from scikit-image>=0.14.0->ppgan)\n",
      "\u001b[?25l  Downloading https://mirror.baidu.com/pypi/packages/08/d6/a6aaa29fea945bc6c61d11f6e0697b325ff7446de5ffd62c2fa02f627048/numpy-1.19.5-cp37-cp37m-manylinux2010_x86_64.whl (14.8MB)\n",
      "\u001b[K     |████████████████████████████████| 14.8MB 8.7MB/s eta 0:00:011\n",
      "\u001b[?25hCollecting PyWavelets>=1.1.1 (from scikit-image>=0.14.0->ppgan)\n",
      "\u001b[?25l  Downloading https://mirror.baidu.com/pypi/packages/62/bd/592c7242fdd1218a96431512e77265c50812315ef72570ace85e1cfae298/PyWavelets-1.1.1-cp37-cp37m-manylinux1_x86_64.whl (4.4MB)\n",
      "\u001b[K     |████████████████████████████████| 4.4MB 9.4MB/s eta 0:00:01\n",
      "\u001b[?25hRequirement already satisfied: pillow!=7.1.0,!=7.1.1,>=4.3.0 in /opt/conda/envs/python35-paddle120-env/lib/python3.7/site-packages (from scikit-image>=0.14.0->ppgan) (7.1.2)\n",
      "Collecting tifffile>=2019.7.26 (from scikit-image>=0.14.0->ppgan)\n",
      "\u001b[?25l  Downloading https://mirror.baidu.com/pypi/packages/50/f7/65afbcba9148b6356722e89e43f37bc4aebfad8017dd6711e628ca07a0af/tifffile-2021.1.8-py3-none-any.whl (158kB)\n",
      "\u001b[K     |████████████████████████████████| 163kB 54.0MB/s eta 0:00:01\n",
      "\u001b[?25hRequirement already satisfied: networkx>=2.0 in /opt/conda/envs/python35-paddle120-env/lib/python3.7/site-packages (from scikit-image>=0.14.0->ppgan) (2.4)\n",
      "Requirement already satisfied: kiwisolver>=1.0.1 in /opt/conda/envs/python35-paddle120-env/lib/python3.7/site-packages (from matplotlib!=3.0.0,>=2.0.0->scikit-image>=0.14.0->ppgan) (1.1.0)\n",
      "Requirement already satisfied: six>=1.10 in /opt/conda/envs/python35-paddle120-env/lib/python3.7/site-packages (from matplotlib!=3.0.0,>=2.0.0->scikit-image>=0.14.0->ppgan) (1.15.0)\n",
      "Requirement already satisfied: pyparsing!=2.0.4,!=2.1.2,!=2.1.6,>=2.0.1 in /opt/conda/envs/python35-paddle120-env/lib/python3.7/site-packages (from matplotlib!=3.0.0,>=2.0.0->scikit-image>=0.14.0->ppgan) (2.4.2)\n",
      "Requirement already satisfied: python-dateutil>=2.1 in /opt/conda/envs/python35-paddle120-env/lib/python3.7/site-packages (from matplotlib!=3.0.0,>=2.0.0->scikit-image>=0.14.0->ppgan) (2.8.0)\n",
      "Requirement already satisfied: cycler>=0.10 in /opt/conda/envs/python35-paddle120-env/lib/python3.7/site-packages (from matplotlib!=3.0.0,>=2.0.0->scikit-image>=0.14.0->ppgan) (0.10.0)\n",
      "Requirement already satisfied: pytz in /opt/conda/envs/python35-paddle120-env/lib/python3.7/site-packages (from matplotlib!=3.0.0,>=2.0.0->scikit-image>=0.14.0->ppgan) (2019.3)\n",
      "Requirement already satisfied: decorator>=4.3.0 in /opt/conda/envs/python35-paddle120-env/lib/python3.7/site-packages (from networkx>=2.0->scikit-image>=0.14.0->ppgan) (4.4.0)\n",
      "Requirement already satisfied: setuptools in /opt/conda/envs/python35-paddle120-env/lib/python3.7/site-packages (from kiwisolver>=1.0.1->matplotlib!=3.0.0,>=2.0.0->scikit-image>=0.14.0->ppgan) (41.4.0)\n",
      "Building wheels for collected packages: dlib\n",
      "  Building wheel for dlib (setup.py) ... \u001b[?25l|^C\n",
      "\b/\u001b[?25canceled\n"
     ]
    }
   ],
   "source": [
    "!pip install ppgan"
   ]
  },
  {
   "cell_type": "code",
   "execution_count": null,
   "metadata": {
    "collapsed": true
   },
   "outputs": [
    {
     "name": "stdout",
     "output_type": "stream",
     "text": [
      "Removed build tracker '/tmp/pip-req-tracker-kyjt037b'\r"
     ]
    }
   ],
   "source": [
    "!git clone https://gitee.com/paddlepaddle/PaddleGAN.git\r\n"
   ]
  },
  {
   "cell_type": "code",
   "execution_count": null,
   "metadata": {
    "collapsed": false
   },
   "outputs": [
    {
     "name": "stdout",
     "output_type": "stream",
     "text": [
      "Given no hashes to check 159 links for project 'pip': discarding no candidates\r"
     ]
    }
   ],
   "source": [
    "%cd PaddleGAN/\r\n",
    "!pip install -v -e ."
   ]
  },
  {
   "cell_type": "code",
   "execution_count": 10,
   "metadata": {
    "collapsed": false
   },
   "outputs": [
    {
     "name": "stdout",
     "output_type": "stream",
     "text": [
      "/home/aistudio\n",
      "1399912.ipynb  data  mydata  output  PaddleGAN\tsmall1\twork\n"
     ]
    }
   ],
   "source": [
    "!cd ../\r\n",
    "!pwd\r\n",
    "!ls"
   ]
  },
  {
   "cell_type": "code",
   "execution_count": 4,
   "metadata": {
    "collapsed": false
   },
   "outputs": [],
   "source": [
    "import os"
   ]
  },
  {
   "cell_type": "code",
   "execution_count": 3,
   "metadata": {
    "collapsed": false
   },
   "outputs": [
    {
     "name": "stdout",
     "output_type": "stream",
     "text": [
      "[01/11 14:06:03] ppgan INFO: Found /home/aistudio/.cache/ppgan/DF2K_JPEG.pdparams\n"
     ]
    }
   ],
   "source": [
    "\r\n",
    "from PaddleGAN.ppgan.apps.realsr_predictor import RealSRPredictor\r\n",
    "\r\n",
    "sr = RealSRPredictor()\r\n",
    "# img = cv.imread(\"./work/Data1.png\")\r\n",
    "# sr.run(\"mydata/Test1_1_1.png\")\r\n",
    "\r\n"
   ]
  },
  {
   "cell_type": "code",
   "execution_count": 7,
   "metadata": {
    "collapsed": false
   },
   "outputs": [
    {
     "data": {
      "text/plain": [
       "['Test1_3_2.png',\n",
       " 'Test1_3_1.png',\n",
       " 'Test1_2_3.png',\n",
       " 'Test1_2_2.png',\n",
       " 'Test1_2_1.png',\n",
       " 'Test1_4_3.png',\n",
       " 'Test1_2_4.png',\n",
       " 'Test1_3_4.png',\n",
       " 'Test1_1_3.png',\n",
       " 'Test1_4_2.png',\n",
       " 'Test1_3_3.png',\n",
       " 'Test1_1_1.png',\n",
       " 'Test1_1_2.png',\n",
       " 'Test1_4_4.png',\n",
       " 'Test1_1_4.png',\n",
       " 'Test1_4_1.png']"
      ]
     },
     "execution_count": 7,
     "metadata": {},
     "output_type": "execute_result"
    }
   ],
   "source": [
    "os.listdir(\"small1\")"
   ]
  },
  {
   "cell_type": "code",
   "execution_count": 13,
   "metadata": {
    "collapsed": false
   },
   "outputs": [
    {
     "name": "stdout",
     "output_type": "stream",
     "text": [
      "[01/11 14:21:49] ppgan INFO: Image saved to output/RealSR/Test2_3_2.png\n",
      "[01/11 14:21:49] ppgan INFO: Image saved to output/RealSR/Test2_1_4.png\n",
      "[01/11 14:21:49] ppgan INFO: Image saved to output/RealSR/Test2_2_1.png\n",
      "[01/11 14:21:49] ppgan INFO: Image saved to output/RealSR/Test2_3_1.png\n",
      "[01/11 14:21:50] ppgan INFO: Image saved to output/RealSR/Test2_2_3.png\n",
      "[01/11 14:21:50] ppgan INFO: Image saved to output/RealSR/Test2_1_1.png\n",
      "[01/11 14:21:50] ppgan INFO: Image saved to output/RealSR/Test2_2_2.png\n",
      "[01/11 14:21:50] ppgan INFO: Image saved to output/RealSR/Test2_4_3.png\n",
      "[01/11 14:21:51] ppgan INFO: Image saved to output/RealSR/Test2_3_4.png\n",
      "[01/11 14:21:51] ppgan INFO: Image saved to output/RealSR/Test2_4_2.png\n",
      "[01/11 14:21:51] ppgan INFO: Image saved to output/RealSR/Test2_3_3.png\n",
      "[01/11 14:21:51] ppgan INFO: Image saved to output/RealSR/Test2_1_3.png\n",
      "[01/11 14:21:52] ppgan INFO: Image saved to output/RealSR/Test2_4_4.png\n",
      "[01/11 14:21:52] ppgan INFO: Image saved to output/RealSR/Test2_1_2.png\n",
      "[01/11 14:21:52] ppgan INFO: Image saved to output/RealSR/Test2_2_4.png\n",
      "[01/11 14:21:52] ppgan INFO: Image saved to output/RealSR/Test2_4_1.png\n"
     ]
    }
   ],
   "source": [
    "for i in os.listdir(\"small2\"):\r\n",
    "    sr.run(\"small2/\"+i)"
   ]
  },
  {
   "cell_type": "code",
   "execution_count": null,
   "metadata": {
    "collapsed": false
   },
   "outputs": [],
   "source": []
  },
  {
   "cell_type": "code",
   "execution_count": null,
   "metadata": {
    "collapsed": false
   },
   "outputs": [],
   "source": []
  },
  {
   "cell_type": "code",
   "execution_count": null,
   "metadata": {
    "collapsed": false
   },
   "outputs": [],
   "source": []
  },
  {
   "cell_type": "code",
   "execution_count": null,
   "metadata": {
    "collapsed": false
   },
   "outputs": [],
   "source": []
  },
  {
   "cell_type": "code",
   "execution_count": null,
   "metadata": {
    "collapsed": false
   },
   "outputs": [],
   "source": []
  },
  {
   "cell_type": "code",
   "execution_count": null,
   "metadata": {
    "collapsed": false
   },
   "outputs": [],
   "source": []
  }
 ],
 "metadata": {
  "kernelspec": {
   "display_name": "PaddlePaddle 2.0.0b0 (Python 3.5)",
   "language": "python",
   "name": "py35-paddle1.2.0"
  },
  "language_info": {
   "codemirror_mode": {
    "name": "ipython",
    "version": 3
   },
   "file_extension": ".py",
   "mimetype": "text/x-python",
   "name": "python",
   "nbconvert_exporter": "python",
   "pygments_lexer": "ipython3",
   "version": "3.7.4"
  }
 },
 "nbformat": 4,
 "nbformat_minor": 1
}
